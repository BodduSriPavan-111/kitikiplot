{
 "cells": [
  {
   "cell_type": "markdown",
   "id": "488ec94b",
   "metadata": {},
   "source": [
    "https://raw.githubusercontent.com/biopython/biopython/master/Doc/examples/ls_orchid.fasta"
   ]
  },
  {
   "cell_type": "code",
   "execution_count": 2,
   "id": "be70b9c1",
   "metadata": {},
   "outputs": [],
   "source": [
    "import os\n",
    "import sys\n",
    "\n",
    "# from Bio import SeqIO\n",
    "\n",
    "sys.path.append(os.path.abspath(os.path.join(os.getcwd(), '..')))\n",
    "\n",
    "from kitikiplot.core import KitikiPlot\n",
    "from kitikiplot.genomics import grid\n",
    "from kitikiplot.ecology import linear\n",
    "\n",
    "import warnings\n",
    "warnings.filterwarnings(\"ignore\")\n",
    "os.chdir(\"..\")"
   ]
  }
 ],
 "metadata": {
  "kernelspec": {
   "display_name": "base",
   "language": "python",
   "name": "python3"
  },
  "language_info": {
   "codemirror_mode": {
    "name": "ipython",
    "version": 3
   },
   "file_extension": ".py",
   "mimetype": "text/x-python",
   "name": "python",
   "nbconvert_exporter": "python",
   "pygments_lexer": "ipython3",
   "version": "3.11.3"
  }
 },
 "nbformat": 4,
 "nbformat_minor": 5
}
