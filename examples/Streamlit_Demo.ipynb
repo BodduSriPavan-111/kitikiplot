{
 "cells": [
  {
   "cell_type": "markdown",
   "id": "488ec94b",
   "metadata": {},
   "source": [
    "https://raw.githubusercontent.com/biopython/biopython/master/Doc/examples/ls_orchid.fasta"
   ]
  },
  {
   "cell_type": "code",
   "execution_count": 1,
   "id": "be70b9c1",
   "metadata": {},
   "outputs": [
    {
     "name": "stderr",
     "output_type": "stream",
     "text": [
      "c:\\Users\\bsnra\\anaconda3\\Lib\\site-packages\\pandas\\core\\arrays\\masked.py:60: UserWarning: Pandas requires version '1.3.6' or newer of 'bottleneck' (version '1.3.5' currently installed).\n",
      "  from pandas.core import (\n"
     ]
    }
   ],
   "source": [
    "import os\n",
    "import sys\n",
    "\n",
    "from Bio import SeqIO\n",
    "\n",
    "sys.path.append(os.path.abspath(os.path.join(os.getcwd(), '..')))\n",
    "\n",
    "from kitikiplot.core import KitikiPlot\n",
    "from kitikiplot.genomics import grid\n",
    "\n",
    "os.chdir(\"..\")"
   ]
  },
  {
   "cell_type": "code",
   "execution_count": 5,
   "metadata": {},
   "outputs": [
    {
     "name": "stdout",
     "output_type": "stream",
     "text": [
      "________________________ (4, 9)\n"
     ]
    },
    {
     "data": {
      "image/png": "[encoded data removed]",
      "text/plain": [
       "<Figure size 2000x100 with 1 Axes>"
      ]
     },
     "metadata": {},
     "output_type": "display_data"
    }
   ],
   "source": [
    "CO_values= [3, 3, 3, 3, -200, 2, 1, 1, 1, 1, 2, 3, 4, 4, 3, 3, 3, 2]\n",
    "time_period= ['0 am', '1 am', '2 am', '3 am', '4 am', '5 am', '6 am', '7 am', '8 am', '9 am', '10 am',\n",
    "              '11 am', '12 pm', '13 pm', '14 pm', '15 pm', '16 pm', '17 pm']\n",
    "ktk= KitikiPlot( data= CO_values, stride= 1, window_length= len(time_period) )\n",
    "\n",
    "ktk.plot(\n",
    "        figsize= (20, 1),\n",
    "        cell_width= 2,\n",
    "        cmap= {-200: \"#00db3e\", 1: \"#00b7db\", 2: \"#4400d8\", 3: \"#ff7070\", 4: \"#b0009b\"},\n",
    "        focus= (4,9),\n",
    "        focus_alpha= 0.1,\n",
    "        transpose= True,\n",
    "        xlabel= \"Time\",\n",
    "        ylabel= \"Sliding Windows of CO(GT) values (in mg/m^3)\",\n",
    "        display_xticks= True,\n",
    "        xticks_values= time_period,\n",
    "        ytick_prefix= \"Window\",\n",
    "        xticks_rotation= 90, \n",
    "        display_legend= True,\n",
    "        title= \"CO(GT) Trend in Air\",\n",
    "        legend_kwargs= {\"bbox_to_anchor\": (1.01, 1), \"loc\":'upper left', \"borderaxespad\": 0.})"
   ]
  },
  {
   "cell_type": "code",
   "execution_count": 4,
   "id": "fbd1ee03",
   "metadata": {},
   "outputs": [
    {
     "data": {
      "text/html": [
       "<div>\n",
       "<style scoped>\n",
       "    .dataframe tbody tr th:only-of-type {\n",
       "        vertical-align: middle;\n",
       "    }\n",
       "\n",
       "    .dataframe tbody tr th {\n",
       "        vertical-align: top;\n",
       "    }\n",
       "\n",
       "    .dataframe thead th {\n",
       "        text-align: right;\n",
       "    }\n",
       "</style>\n",
       "<table border=\"1\" class=\"dataframe\">\n",
       "  <thead>\n",
       "    <tr style=\"text-align: right;\">\n",
       "      <th></th>\n",
       "      <th>0</th>\n",
       "      <th>1</th>\n",
       "      <th>2</th>\n",
       "      <th>3</th>\n",
       "      <th>4</th>\n",
       "      <th>5</th>\n",
       "      <th>6</th>\n",
       "      <th>7</th>\n",
       "      <th>8</th>\n",
       "      <th>9</th>\n",
       "      <th>10</th>\n",
       "      <th>11</th>\n",
       "      <th>12</th>\n",
       "      <th>13</th>\n",
       "      <th>14</th>\n",
       "      <th>15</th>\n",
       "      <th>16</th>\n",
       "      <th>17</th>\n",
       "    </tr>\n",
       "  </thead>\n",
       "  <tbody>\n",
       "    <tr>\n",
       "      <th>0</th>\n",
       "      <td>3</td>\n",
       "      <td>3</td>\n",
       "      <td>3</td>\n",
       "      <td>3</td>\n",
       "      <td>-200</td>\n",
       "      <td>2</td>\n",
       "      <td>1</td>\n",
       "      <td>1</td>\n",
       "      <td>1</td>\n",
       "      <td>1</td>\n",
       "      <td>2</td>\n",
       "      <td>3</td>\n",
       "      <td>4</td>\n",
       "      <td>4</td>\n",
       "      <td>3</td>\n",
       "      <td>3</td>\n",
       "      <td>3</td>\n",
       "      <td>2</td>\n",
       "    </tr>\n",
       "  </tbody>\n",
       "</table>\n",
       "</div>"
      ],
      "text/plain": [
       "   0   1   2   3    4   5   6   7   8   9   10  11  12  13  14  15  16  17\n",
       "0   3   3   3   3 -200   2   1   1   1   1   2   3   4   4   3   3   3   2"
      ]
     },
     "execution_count": 4,
     "metadata": {},
     "output_type": "execute_result"
    }
   ],
   "source": [
    "ktk.data"
   ]
  },
  {
   "cell_type": "code",
   "execution_count": 5,
   "id": "65256dca",
   "metadata": {},
   "outputs": [
    {
     "data": {
      "text/plain": [
       "1"
      ]
     },
     "execution_count": 5,
     "metadata": {},
     "output_type": "execute_result"
    }
   ],
   "source": [
    "ktk.rows"
   ]
  },
  {
   "cell_type": "code",
   "execution_count": 6,
   "id": "d27652d3",
   "metadata": {},
   "outputs": [
    {
     "data": {
      "text/plain": [
       "18"
      ]
     },
     "execution_count": 6,
     "metadata": {},
     "output_type": "execute_result"
    }
   ],
   "source": [
    "ktk.cols"
   ]
  },
  {
   "cell_type": "code",
   "execution_count": null,
   "id": "ab09917b",
   "metadata": {},
   "outputs": [],
   "source": []
  }
 ],
 "metadata": {
  "kernelspec": {
   "display_name": "base",
   "language": "python",
   "name": "python3"
  },
  "language_info": {
   "codemirror_mode": {
    "name": "ipython",
    "version": 3
   },
   "file_extension": ".py",
   "mimetype": "text/x-python",
   "name": "python",
   "nbconvert_exporter": "python",
   "pygments_lexer": "ipython3",
   "version": "3.11.3"
  }
 },
 "nbformat": 4,
 "nbformat_minor": 5
}
