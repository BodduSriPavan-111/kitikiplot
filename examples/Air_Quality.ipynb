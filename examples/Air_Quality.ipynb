{
 "cells": [
  {
   "cell_type": "markdown",
   "metadata": {},
   "source": [
    "### Visualize Carbon monoxide concentration across different time intervals\n",
    "Dataset: https://archive.ics.uci.edu/dataset/360/air+quality"
   ]
  },
  {
   "cell_type": "markdown",
   "metadata": {},
   "source": [
    "##### Import necessary libraries"
   ]
  },
  {
   "cell_type": "code",
   "execution_count": 1,
   "metadata": {},
   "outputs": [],
   "source": [
    "import sys\n",
    "import os\n",
    "\n",
    "sys.path.append(os.path.abspath(os.path.join(os.getcwd(), '..')))\n",
    "\n",
    "from kitikiplot import KitikiPlot\n",
    "import pandas as pd\n",
    "\n",
    "\n",
    "os.chdir(\"..\")"
   ]
  },
  {
   "cell_type": "code",
   "execution_count": 2,
   "metadata": {},
   "outputs": [
    {
     "name": "stdout",
     "output_type": "stream",
     "text": [
      "Shape :  (9357, 15)\n"
     ]
    },
    {
     "data": {
      "text/html": [
       "<div>\n",
       "<style scoped>\n",
       "    .dataframe tbody tr th:only-of-type {\n",
       "        vertical-align: middle;\n",
       "    }\n",
       "\n",
       "    .dataframe tbody tr th {\n",
       "        vertical-align: top;\n",
       "    }\n",
       "\n",
       "    .dataframe thead th {\n",
       "        text-align: right;\n",
       "    }\n",
       "</style>\n",
       "<table border=\"1\" class=\"dataframe\">\n",
       "  <thead>\n",
       "    <tr style=\"text-align: right;\">\n",
       "      <th></th>\n",
       "      <th>Date</th>\n",
       "      <th>Time</th>\n",
       "      <th>CO(GT)</th>\n",
       "      <th>PT08.S1(CO)</th>\n",
       "      <th>NMHC(GT)</th>\n",
       "      <th>C6H6(GT)</th>\n",
       "      <th>PT08.S2(NMHC)</th>\n",
       "      <th>NOx(GT)</th>\n",
       "      <th>PT08.S3(NOx)</th>\n",
       "      <th>NO2(GT)</th>\n",
       "      <th>PT08.S4(NO2)</th>\n",
       "      <th>PT08.S5(O3)</th>\n",
       "      <th>T</th>\n",
       "      <th>RH</th>\n",
       "      <th>AH</th>\n",
       "    </tr>\n",
       "  </thead>\n",
       "  <tbody>\n",
       "    <tr>\n",
       "      <th>0</th>\n",
       "      <td>2004-03-10</td>\n",
       "      <td>18:00:00</td>\n",
       "      <td>2.6</td>\n",
       "      <td>1360.00</td>\n",
       "      <td>150</td>\n",
       "      <td>11.881723</td>\n",
       "      <td>1045.50</td>\n",
       "      <td>166.0</td>\n",
       "      <td>1056.25</td>\n",
       "      <td>113.0</td>\n",
       "      <td>1692.00</td>\n",
       "      <td>1267.50</td>\n",
       "      <td>13.6</td>\n",
       "      <td>48.875001</td>\n",
       "      <td>0.757754</td>\n",
       "    </tr>\n",
       "    <tr>\n",
       "      <th>1</th>\n",
       "      <td>2004-03-10</td>\n",
       "      <td>19:00:00</td>\n",
       "      <td>2.0</td>\n",
       "      <td>1292.25</td>\n",
       "      <td>112</td>\n",
       "      <td>9.397165</td>\n",
       "      <td>954.75</td>\n",
       "      <td>103.0</td>\n",
       "      <td>1173.75</td>\n",
       "      <td>92.0</td>\n",
       "      <td>1558.75</td>\n",
       "      <td>972.25</td>\n",
       "      <td>13.3</td>\n",
       "      <td>47.700000</td>\n",
       "      <td>0.725487</td>\n",
       "    </tr>\n",
       "    <tr>\n",
       "      <th>2</th>\n",
       "      <td>2004-03-10</td>\n",
       "      <td>20:00:00</td>\n",
       "      <td>2.2</td>\n",
       "      <td>1402.00</td>\n",
       "      <td>88</td>\n",
       "      <td>8.997817</td>\n",
       "      <td>939.25</td>\n",
       "      <td>131.0</td>\n",
       "      <td>1140.00</td>\n",
       "      <td>114.0</td>\n",
       "      <td>1554.50</td>\n",
       "      <td>1074.00</td>\n",
       "      <td>11.9</td>\n",
       "      <td>53.975000</td>\n",
       "      <td>0.750239</td>\n",
       "    </tr>\n",
       "  </tbody>\n",
       "</table>\n",
       "</div>"
      ],
      "text/plain": [
       "        Date      Time  CO(GT)  PT08.S1(CO)  NMHC(GT)   C6H6(GT)  \\\n",
       "0 2004-03-10  18:00:00     2.6      1360.00       150  11.881723   \n",
       "1 2004-03-10  19:00:00     2.0      1292.25       112   9.397165   \n",
       "2 2004-03-10  20:00:00     2.2      1402.00        88   8.997817   \n",
       "\n",
       "   PT08.S2(NMHC)  NOx(GT)  PT08.S3(NOx)  NO2(GT)  PT08.S4(NO2)  PT08.S5(O3)  \\\n",
       "0        1045.50    166.0       1056.25    113.0       1692.00      1267.50   \n",
       "1         954.75    103.0       1173.75     92.0       1558.75       972.25   \n",
       "2         939.25    131.0       1140.00    114.0       1554.50      1074.00   \n",
       "\n",
       "      T         RH        AH  \n",
       "0  13.6  48.875001  0.757754  \n",
       "1  13.3  47.700000  0.725487  \n",
       "2  11.9  53.975000  0.750239  "
      ]
     },
     "execution_count": 2,
     "metadata": {},
     "output_type": "execute_result"
    }
   ],
   "source": [
    "# Read excel\n",
    "df= pd.read_excel( \"datasets/air+quality/AirQualityUCI.xlsx\" ) \n",
    "print(\"Shape : \", df.shape)\n",
    "df.head(3)"
   ]
  },
  {
   "cell_type": "code",
   "execution_count": 3,
   "metadata": {},
   "outputs": [
    {
     "name": "stdout",
     "output_type": "stream",
     "text": [
      "Shape :  (24, 15)\n"
     ]
    },
    {
     "data": {
      "text/html": [
       "<div>\n",
       "<style scoped>\n",
       "    .dataframe tbody tr th:only-of-type {\n",
       "        vertical-align: middle;\n",
       "    }\n",
       "\n",
       "    .dataframe tbody tr th {\n",
       "        vertical-align: top;\n",
       "    }\n",
       "\n",
       "    .dataframe thead th {\n",
       "        text-align: right;\n",
       "    }\n",
       "</style>\n",
       "<table border=\"1\" class=\"dataframe\">\n",
       "  <thead>\n",
       "    <tr style=\"text-align: right;\">\n",
       "      <th></th>\n",
       "      <th>Date</th>\n",
       "      <th>Time</th>\n",
       "      <th>CO(GT)</th>\n",
       "      <th>PT08.S1(CO)</th>\n",
       "      <th>NMHC(GT)</th>\n",
       "      <th>C6H6(GT)</th>\n",
       "      <th>PT08.S2(NMHC)</th>\n",
       "      <th>NOx(GT)</th>\n",
       "      <th>PT08.S3(NOx)</th>\n",
       "      <th>NO2(GT)</th>\n",
       "      <th>PT08.S4(NO2)</th>\n",
       "      <th>PT08.S5(O3)</th>\n",
       "      <th>T</th>\n",
       "      <th>RH</th>\n",
       "      <th>AH</th>\n",
       "    </tr>\n",
       "  </thead>\n",
       "  <tbody>\n",
       "    <tr>\n",
       "      <th>5646</th>\n",
       "      <td>2004-11-01</td>\n",
       "      <td>00:00:00</td>\n",
       "      <td>3.2</td>\n",
       "      <td>1352.5</td>\n",
       "      <td>-200</td>\n",
       "      <td>15.864362</td>\n",
       "      <td>1175.5</td>\n",
       "      <td>318.0</td>\n",
       "      <td>583.50</td>\n",
       "      <td>69.0</td>\n",
       "      <td>1723.0</td>\n",
       "      <td>2149.75</td>\n",
       "      <td>20.075</td>\n",
       "      <td>71.299999</td>\n",
       "      <td>1.656382</td>\n",
       "    </tr>\n",
       "    <tr>\n",
       "      <th>5647</th>\n",
       "      <td>2004-11-01</td>\n",
       "      <td>01:00:00</td>\n",
       "      <td>3.7</td>\n",
       "      <td>1406.5</td>\n",
       "      <td>-200</td>\n",
       "      <td>17.848492</td>\n",
       "      <td>1235.0</td>\n",
       "      <td>338.0</td>\n",
       "      <td>547.75</td>\n",
       "      <td>77.0</td>\n",
       "      <td>1780.0</td>\n",
       "      <td>2519.25</td>\n",
       "      <td>20.050</td>\n",
       "      <td>71.125000</td>\n",
       "      <td>1.649795</td>\n",
       "    </tr>\n",
       "    <tr>\n",
       "      <th>5648</th>\n",
       "      <td>2004-11-01</td>\n",
       "      <td>02:00:00</td>\n",
       "      <td>3.5</td>\n",
       "      <td>1333.0</td>\n",
       "      <td>-200</td>\n",
       "      <td>16.685885</td>\n",
       "      <td>1200.5</td>\n",
       "      <td>353.0</td>\n",
       "      <td>552.00</td>\n",
       "      <td>68.0</td>\n",
       "      <td>1767.0</td>\n",
       "      <td>1925.25</td>\n",
       "      <td>19.625</td>\n",
       "      <td>73.200001</td>\n",
       "      <td>1.654350</td>\n",
       "    </tr>\n",
       "  </tbody>\n",
       "</table>\n",
       "</div>"
      ],
      "text/plain": [
       "           Date      Time  CO(GT)  PT08.S1(CO)  NMHC(GT)   C6H6(GT)  \\\n",
       "5646 2004-11-01  00:00:00     3.2       1352.5      -200  15.864362   \n",
       "5647 2004-11-01  01:00:00     3.7       1406.5      -200  17.848492   \n",
       "5648 2004-11-01  02:00:00     3.5       1333.0      -200  16.685885   \n",
       "\n",
       "      PT08.S2(NMHC)  NOx(GT)  PT08.S3(NOx)  NO2(GT)  PT08.S4(NO2)  \\\n",
       "5646         1175.5    318.0        583.50     69.0        1723.0   \n",
       "5647         1235.0    338.0        547.75     77.0        1780.0   \n",
       "5648         1200.5    353.0        552.00     68.0        1767.0   \n",
       "\n",
       "      PT08.S5(O3)       T         RH        AH  \n",
       "5646      2149.75  20.075  71.299999  1.656382  \n",
       "5647      2519.25  20.050  71.125000  1.649795  \n",
       "5648      1925.25  19.625  73.200001  1.654350  "
      ]
     },
     "execution_count": 3,
     "metadata": {},
     "output_type": "execute_result"
    }
   ],
   "source": [
    "# Extract data from one day (2004-11-01)\n",
    "df= df[ df['Date']== \"2004-11-01\" ]\n",
    "print(\"Shape : \", df.shape)\n",
    "df.head( 3 )"
   ]
  },
  {
   "cell_type": "code",
   "execution_count": 4,
   "metadata": {},
   "outputs": [],
   "source": [
    "# Convert float to int\n",
    "df[\"CO(GT)\"]= df[\"CO(GT)\"].astype(int)"
   ]
  },
  {
   "cell_type": "code",
   "execution_count": 5,
   "metadata": {},
   "outputs": [
    {
     "data": {
      "image/png": "[encoded data removed]",
      "text/plain": [
       "<Figure size 2000x500 with 1 Axes>"
      ]
     },
     "metadata": {},
     "output_type": "display_data"
    }
   ],
   "source": [
    "CO_values= [3, 3, 3, 3, -200, 2, 1, 1, 1, 1, 2, 3, 4, 4, 3, 3, 3, 2]\n",
    "time_period= ['0 am', '1 am', '2 am', '3 am', '4 am', '5 am', '6 am', '7 am', '8 am', '9 am', '10 am',\n",
    "              '11 am', '12 pm', '13 pm', '14 pm', '15 pm', '16 pm', '17 pm']\n",
    "ktk= KitikiPlot( data= CO_values )\n",
    "ktk.plot(\n",
    "        figsize= (20, 5),\n",
    "        cell_width= 2,\n",
    "        cmap= {-200: \"cornflowerblue\", 1: \"#ffeaea\", 2: \"#feb9b9\", 3: \"#ff7070\", 4: \"#b00\"},\n",
    "        transpose= True,\n",
    "        xlabel= \"Time\",\n",
    "        ylabel= \"Sliding Windows of CO(GT) values (in mg/m^3)\",\n",
    "        display_xticks= True,\n",
    "        xticks_values= time_period,\n",
    "        ytick_prefix= \"Window\",\n",
    "        xticks_rotation= 90, \n",
    "        display_legend= True,\n",
    "        title= \"CO(GT) Trend in Air\",\n",
    "        legend_kwargs= {\"bbox_to_anchor\": (1.01, 1), \"loc\":'upper left', \"borderaxespad\": 0.})"
   ]
  },
  {
   "cell_type": "markdown",
   "metadata": {},
   "source": [
    "END\n",
    "____"
   ]
  }
 ],
 "metadata": {
  "kernelspec": {
   "display_name": "base",
   "language": "python",
   "name": "python3"
  },
  "language_info": {
   "codemirror_mode": {
    "name": "ipython",
    "version": 3
   },
   "file_extension": ".py",
   "mimetype": "text/x-python",
   "name": "python",
   "nbconvert_exporter": "python",
   "pygments_lexer": "ipython3",
   "version": "3.11.4"
  },
  "orig_nbformat": 4
 },
 "nbformat": 4,
 "nbformat_minor": 2
}
