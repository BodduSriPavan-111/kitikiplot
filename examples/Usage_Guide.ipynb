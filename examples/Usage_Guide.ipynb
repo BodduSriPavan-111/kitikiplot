{
 "cells": [
  {
   "cell_type": "code",
   "execution_count": 1,
   "metadata": {},
   "outputs": [],
   "source": [
    "import sys\n",
    "import os"
   ]
  },
  {
   "cell_type": "code",
   "execution_count": 2,
   "metadata": {},
   "outputs": [],
   "source": [
    "sys.path.append(os.path.abspath(os.path.join(os.getcwd(), '..')))"
   ]
  },
  {
   "cell_type": "code",
   "execution_count": 3,
   "metadata": {},
   "outputs": [],
   "source": [
    "from kitikiplot import kitikiplot\n",
    "import pandas as pd"
   ]
  },
  {
   "cell_type": "code",
   "execution_count": 4,
   "metadata": {},
   "outputs": [],
   "source": [
    "df= pd.read_csv( r\"C:\\Users\\sinch\\Desktop\\Sliding_Window\\fish_5.csv\" )"
   ]
  },
  {
   "cell_type": "code",
   "execution_count": 5,
   "metadata": {},
   "outputs": [
    {
     "data": {
      "text/html": [
       "<div>\n",
       "<style scoped>\n",
       "    .dataframe tbody tr th:only-of-type {\n",
       "        vertical-align: middle;\n",
       "    }\n",
       "\n",
       "    .dataframe tbody tr th {\n",
       "        vertical-align: top;\n",
       "    }\n",
       "\n",
       "    .dataframe thead th {\n",
       "        text-align: right;\n",
       "    }\n",
       "</style>\n",
       "<table border=\"1\" class=\"dataframe\">\n",
       "  <thead>\n",
       "    <tr style=\"text-align: right;\">\n",
       "      <th></th>\n",
       "      <th>0</th>\n",
       "      <th>1</th>\n",
       "      <th>2</th>\n",
       "      <th>3</th>\n",
       "      <th>4</th>\n",
       "      <th>5</th>\n",
       "      <th>6</th>\n",
       "      <th>7</th>\n",
       "      <th>8</th>\n",
       "      <th>9</th>\n",
       "    </tr>\n",
       "  </thead>\n",
       "  <tbody>\n",
       "    <tr>\n",
       "      <th>0</th>\n",
       "      <td>Whale</td>\n",
       "      <td>Whale</td>\n",
       "      <td>Whale</td>\n",
       "      <td>Whale</td>\n",
       "      <td>Whale</td>\n",
       "      <td>Whale</td>\n",
       "      <td>Whale</td>\n",
       "      <td>Shark</td>\n",
       "      <td>Gold</td>\n",
       "      <td>Space</td>\n",
       "    </tr>\n",
       "    <tr>\n",
       "      <th>1</th>\n",
       "      <td>Whale</td>\n",
       "      <td>Whale</td>\n",
       "      <td>Whale</td>\n",
       "      <td>Whale</td>\n",
       "      <td>Whale</td>\n",
       "      <td>Whale</td>\n",
       "      <td>Shark</td>\n",
       "      <td>Gold</td>\n",
       "      <td>Gold</td>\n",
       "      <td>Gold</td>\n",
       "    </tr>\n",
       "    <tr>\n",
       "      <th>2</th>\n",
       "      <td>Whale</td>\n",
       "      <td>Whale</td>\n",
       "      <td>Whale</td>\n",
       "      <td>Whale</td>\n",
       "      <td>Whale</td>\n",
       "      <td>Shark</td>\n",
       "      <td>Gold</td>\n",
       "      <td>Gold</td>\n",
       "      <td>Gold</td>\n",
       "      <td>Gold</td>\n",
       "    </tr>\n",
       "    <tr>\n",
       "      <th>3</th>\n",
       "      <td>Whale</td>\n",
       "      <td>Whale</td>\n",
       "      <td>Whale</td>\n",
       "      <td>Whale</td>\n",
       "      <td>Shark</td>\n",
       "      <td>Gold</td>\n",
       "      <td>Gold</td>\n",
       "      <td>Gold</td>\n",
       "      <td>Gold</td>\n",
       "      <td>Gold</td>\n",
       "    </tr>\n",
       "    <tr>\n",
       "      <th>4</th>\n",
       "      <td>Whale</td>\n",
       "      <td>Whale</td>\n",
       "      <td>Whale</td>\n",
       "      <td>Shark</td>\n",
       "      <td>Gold</td>\n",
       "      <td>Gold</td>\n",
       "      <td>Gold</td>\n",
       "      <td>Gold</td>\n",
       "      <td>Gold</td>\n",
       "      <td>Shark</td>\n",
       "    </tr>\n",
       "  </tbody>\n",
       "</table>\n",
       "</div>"
      ],
      "text/plain": [
       "       0      1      2      3      4      5      6      7     8      9\n",
       "0  Whale  Whale  Whale  Whale  Whale  Whale  Whale  Shark  Gold  Space\n",
       "1  Whale  Whale  Whale  Whale  Whale  Whale  Shark   Gold  Gold   Gold\n",
       "2  Whale  Whale  Whale  Whale  Whale  Shark   Gold   Gold  Gold   Gold\n",
       "3  Whale  Whale  Whale  Whale  Shark   Gold   Gold   Gold  Gold   Gold\n",
       "4  Whale  Whale  Whale  Shark   Gold   Gold   Gold   Gold  Gold  Shark"
      ]
     },
     "execution_count": 5,
     "metadata": {},
     "output_type": "execute_result"
    }
   ],
   "source": [
    "df"
   ]
  },
  {
   "cell_type": "code",
   "execution_count": 6,
   "metadata": {},
   "outputs": [],
   "source": [
    "plot= kitikiplot( data= df )"
   ]
  },
  {
   "cell_type": "code",
   "execution_count": 11,
   "metadata": {},
   "outputs": [
    {
     "data": {
      "image/png": "[encoded data removed]",
      "text/plain": [
       "<Figure size 1000x500 with 1 Axes>"
      ]
     },
     "metadata": {},
     "output_type": "display_data"
    }
   ],
   "source": [
    "plot.plot(figsize= (10, 5), cell_width= 3, xtick_prefix= \"Kitiki\", ytick_prefix= \"Talupu\")"
   ]
  },
  {
   "cell_type": "code",
   "execution_count": 10,
   "metadata": {},
   "outputs": [],
   "source": [
    "import pandas as pd\n",
    "import matplotlib"
   ]
  },
  {
   "cell_type": "code",
   "execution_count": 9,
   "metadata": {},
   "outputs": [
    {
     "data": {
      "text/plain": [
       "'2.2.2'"
      ]
     },
     "execution_count": 9,
     "metadata": {},
     "output_type": "execute_result"
    }
   ],
   "source": [
    "pd.__version__"
   ]
  },
  {
   "cell_type": "code",
   "execution_count": 10,
   "metadata": {},
   "outputs": [
    {
     "data": {
      "text/plain": [
       "'3.9.0'"
      ]
     },
     "execution_count": 10,
     "metadata": {},
     "output_type": "execute_result"
    }
   ],
   "source": [
    "matplotlib.__version__"
   ]
  },
  {
   "cell_type": "code",
   "execution_count": null,
   "metadata": {},
   "outputs": [],
   "source": []
  }
 ],
 "metadata": {
  "kernelspec": {
   "display_name": "base",
   "language": "python",
   "name": "python3"
  },
  "language_info": {
   "codemirror_mode": {
    "name": "ipython",
    "version": 3
   },
   "file_extension": ".py",
   "mimetype": "text/x-python",
   "name": "python",
   "nbconvert_exporter": "python",
   "pygments_lexer": "ipython3",
   "version": "3.11.4"
  }
 },
 "nbformat": 4,
 "nbformat_minor": 2
}
